{
 "cells": [
  {
   "cell_type": "code",
   "execution_count": 2,
   "id": "e5e26c8b-a4d0-4b0d-af54-d4f86f2cc45d",
   "metadata": {},
   "outputs": [
    {
     "ename": "FileNotFoundError",
     "evalue": "[Errno 2] No such file or directory: '../data/timeslowt.txt'",
     "output_type": "error",
     "traceback": [
      "\u001b[0;31m---------------------------------------------------------------------------\u001b[0m",
      "\u001b[0;31mFileNotFoundError\u001b[0m                         Traceback (most recent call last)",
      "Cell \u001b[0;32mIn[2], line 4\u001b[0m\n\u001b[1;32m      1\u001b[0m \u001b[38;5;28;01mimport\u001b[39;00m \u001b[38;5;21;01mnumpy\u001b[39;00m \u001b[38;5;28;01mas\u001b[39;00m \u001b[38;5;21;01mnp\u001b[39;00m\n\u001b[1;32m      2\u001b[0m \u001b[38;5;28;01mimport\u001b[39;00m \u001b[38;5;21;01mmatplotlib\u001b[39;00m\u001b[38;5;21;01m.\u001b[39;00m\u001b[38;5;21;01mpyplot\u001b[39;00m \u001b[38;5;28;01mas\u001b[39;00m \u001b[38;5;21;01mplt\u001b[39;00m\n\u001b[0;32m----> 4\u001b[0m \u001b[38;5;28;01mwith\u001b[39;00m \u001b[38;5;28;43mopen\u001b[39;49m\u001b[43m(\u001b[49m\u001b[38;5;124;43m'\u001b[39;49m\u001b[38;5;124;43m../data/timeslowt.txt\u001b[39;49m\u001b[38;5;124;43m'\u001b[39;49m\u001b[43m,\u001b[49m\u001b[43m \u001b[49m\u001b[38;5;124;43m'\u001b[39;49m\u001b[38;5;124;43mr\u001b[39;49m\u001b[38;5;124;43m'\u001b[39;49m\u001b[43m)\u001b[49m \u001b[38;5;28;01mas\u001b[39;00m file:\n\u001b[1;32m      5\u001b[0m     data_array \u001b[38;5;241m=\u001b[39m [line\u001b[38;5;241m.\u001b[39mstrip()\u001b[38;5;241m.\u001b[39msplit() \u001b[38;5;28;01mfor\u001b[39;00m line \u001b[38;5;129;01min\u001b[39;00m file\u001b[38;5;241m.\u001b[39mreadlines()]  \u001b[38;5;66;03m# Assumes first 2 lines\u001b[39;00m\n\u001b[1;32m      7\u001b[0m \u001b[38;5;66;03m# base vs timestep\u001b[39;00m\n",
      "File \u001b[0;32m~/Library/jupyterlab-desktop/jlab_server/lib/python3.12/site-packages/IPython/core/interactiveshell.py:324\u001b[0m, in \u001b[0;36m_modified_open\u001b[0;34m(file, *args, **kwargs)\u001b[0m\n\u001b[1;32m    317\u001b[0m \u001b[38;5;28;01mif\u001b[39;00m file \u001b[38;5;129;01min\u001b[39;00m {\u001b[38;5;241m0\u001b[39m, \u001b[38;5;241m1\u001b[39m, \u001b[38;5;241m2\u001b[39m}:\n\u001b[1;32m    318\u001b[0m     \u001b[38;5;28;01mraise\u001b[39;00m \u001b[38;5;167;01mValueError\u001b[39;00m(\n\u001b[1;32m    319\u001b[0m         \u001b[38;5;124mf\u001b[39m\u001b[38;5;124m\"\u001b[39m\u001b[38;5;124mIPython won\u001b[39m\u001b[38;5;124m'\u001b[39m\u001b[38;5;124mt let you open fd=\u001b[39m\u001b[38;5;132;01m{\u001b[39;00mfile\u001b[38;5;132;01m}\u001b[39;00m\u001b[38;5;124m by default \u001b[39m\u001b[38;5;124m\"\u001b[39m\n\u001b[1;32m    320\u001b[0m         \u001b[38;5;124m\"\u001b[39m\u001b[38;5;124mas it is likely to crash IPython. If you know what you are doing, \u001b[39m\u001b[38;5;124m\"\u001b[39m\n\u001b[1;32m    321\u001b[0m         \u001b[38;5;124m\"\u001b[39m\u001b[38;5;124myou can use builtins\u001b[39m\u001b[38;5;124m'\u001b[39m\u001b[38;5;124m open.\u001b[39m\u001b[38;5;124m\"\u001b[39m\n\u001b[1;32m    322\u001b[0m     )\n\u001b[0;32m--> 324\u001b[0m \u001b[38;5;28;01mreturn\u001b[39;00m \u001b[43mio_open\u001b[49m\u001b[43m(\u001b[49m\u001b[43mfile\u001b[49m\u001b[43m,\u001b[49m\u001b[43m \u001b[49m\u001b[38;5;241;43m*\u001b[39;49m\u001b[43margs\u001b[49m\u001b[43m,\u001b[49m\u001b[43m \u001b[49m\u001b[38;5;241;43m*\u001b[39;49m\u001b[38;5;241;43m*\u001b[39;49m\u001b[43mkwargs\u001b[49m\u001b[43m)\u001b[49m\n",
      "\u001b[0;31mFileNotFoundError\u001b[0m: [Errno 2] No such file or directory: '../data/timeslowt.txt'"
     ]
    }
   ],
   "source": [
    "import numpy as np\n",
    "import matplotlib.pyplot as plt\n",
    "\n",
    "with open('../data/timeslowt.txt', 'r') as file:\n",
    "    data_array = [line.strip().split() for line in file.readlines()]  # Assumes first 2 lines\n",
    "\n",
    "# base vs timestep\n",
    "trials = 4\n",
    "tsvals = np.arange(1000,10500,500)\n",
    "basetime = np.zeros((len(tsvals),trials+1))\n",
    "basetime[:,0] = tsvals\n",
    "\n",
    "ngittime = basetime.copy()\n",
    "parallel1time = basetime.copy()\n",
    "parallel2time = basetime.copy()\n",
    "parallel3time = basetime.copy()\n",
    "parallel4time = basetime.copy()\n",
    "parallel5time = basetime.copy()\n",
    "ngitparallel1time = basetime.copy()\n",
    "ngitparallel2time = basetime.copy()\n",
    "ngitparallel3time = basetime.copy()\n",
    "ngitparallel4time = basetime.copy()\n",
    "ngitparallel5time = basetime.copy()\n",
    "\n",
    "# base\n",
    "tsindex = 0\n",
    "for ts in tsvals:\n",
    "    mode = 'base_'\n",
    "\n",
    "    for i in range(len(data_array)):\n",
    "        filename = data_array[i][0]\n",
    "        for trial in range(1,1+trials):\n",
    "            if filename.find(mode) != -1 and filename.find('ts'+str(ts)+'r') != -1 and filename.find('t'+str(trial)+'_') != -1:\n",
    "                basetime[tsindex,trial] = data_array[i][3]\n",
    "\n",
    "    tsindex += 1\n",
    "\n",
    "# ngit\n",
    "tsindex = 0\n",
    "for ts in tsvals:\n",
    "    mode = 'ngit_'\n",
    "\n",
    "    for i in range(len(data_array)):\n",
    "        filename = data_array[i][0]\n",
    "        for trial in range(1,1+trials):\n",
    "            if filename.find(mode) != -1 and filename.find('ts'+str(ts)+'r') != -1 and filename.find('t'+str(trial)+'_') != -1:\n",
    "                ngittime[tsindex,trial] = data_array[i][3]\n",
    "\n",
    "    tsindex += 1\n",
    "\n",
    "# parallel\n",
    "tsindex = 0\n",
    "for ts in tsvals:\n",
    "    mode = '_parallel_'\n",
    "\n",
    "    for i in range(len(data_array)):\n",
    "        filename = data_array[i][0]\n",
    "        for trial in range(1,1+trials):\n",
    "            if filename.find(mode) != -1 and filename.find('ts'+str(ts)+'r') != -1 and filename.find('t'+str(trial)+'_') != -1 and filename.find('c1') != -1:\n",
    "                parallel1time[tsindex,trial] = data_array[i][3]\n",
    "            if filename.find(mode) != -1 and filename.find('ts'+str(ts)+'r') != -1 and filename.find('t'+str(trial)+'_') != -1 and filename.find('c2') != -1:\n",
    "                parallel2time[tsindex,trial] = data_array[i][3]\n",
    "            if filename.find(mode) != -1 and filename.find('ts'+str(ts)+'r') != -1 and filename.find('t'+str(trial)+'_') != -1 and filename.find('c3') != -1:\n",
    "                parallel3time[tsindex,trial] = data_array[i][3]\n",
    "            if filename.find(mode) != -1 and filename.find('ts'+str(ts)+'r') != -1 and filename.find('t'+str(trial)+'_') != -1 and filename.find('c4') != -1:\n",
    "                parallel4time[tsindex,trial] = data_array[i][3]\n",
    "            if filename.find(mode) != -1 and filename.find('ts'+str(ts)+'r') != -1 and filename.find('t'+str(trial)+'_') != -1 and filename.find('c5') != -1:\n",
    "                parallel5time[tsindex,trial] = data_array[i][3]\n",
    "\n",
    "    tsindex += 1\n",
    "\n",
    "# ngitparallel\n",
    "tsindex = 0\n",
    "for ts in tsvals:\n",
    "    mode = '_ngitparallel_'\n",
    "\n",
    "    for i in range(len(data_array)):\n",
    "        filename = data_array[i][0]\n",
    "        for trial in range(1,1+trials):\n",
    "            if filename.find(mode) != -1 and filename.find('ts'+str(ts)+'r') != -1 and filename.find('t'+str(trial)+'_') != -1 and filename.find('c1') != -1:\n",
    "                ngitparallel1time[tsindex,trial] = data_array[i][3]\n",
    "            if filename.find(mode) != -1 and filename.find('ts'+str(ts)+'r') != -1 and filename.find('t'+str(trial)+'_') != -1 and filename.find('c2') != -1:\n",
    "                ngitparallel2time[tsindex,trial] = data_array[i][3]\n",
    "            if filename.find(mode) != -1 and filename.find('ts'+str(ts)+'r') != -1 and filename.find('t'+str(trial)+'_') != -1 and filename.find('c3') != -1:\n",
    "                ngitparallel3time[tsindex,trial] = data_array[i][3]\n",
    "            if filename.find(mode) != -1 and filename.find('ts'+str(ts)+'r') != -1 and filename.find('t'+str(trial)+'_') != -1 and filename.find('c4') != -1:\n",
    "                ngitparallel4time[tsindex,trial] = data_array[i][3]\n",
    "            if filename.find(mode) != -1 and filename.find('ts'+str(ts)+'r') != -1 and filename.find('t'+str(trial)+'_') != -1 and filename.find('c5') != -1:\n",
    "                ngitparallel5time[tsindex,trial] = data_array[i][3]\n",
    "\n",
    "    tsindex += 1"
   ]
  },
  {
   "cell_type": "code",
   "execution_count": null,
   "id": "6d769375-1300-4ee2-8904-70db01f89001",
   "metadata": {},
   "outputs": [],
   "source": [
    "def plottime(array,l):\n",
    "    x = array[:,0]\n",
    "    y = np.mean(array[:,1:],1)\n",
    "    plt.plot(x,y,label=l)\n",
    "\n",
    "plottime(basetime,\"base\")\n",
    "plottime(ngittime,\"ngit\")\n",
    "plottime(parallel5time,\"parallel\")\n",
    "plottime(ngitparallel5time,\"ngitparallel\")\n",
    "\n",
    "# plt.yscale('log')\n",
    "plt.legend()"
   ]
  },
  {
   "cell_type": "code",
   "execution_count": 3,
   "id": "573a46ed-882a-4850-83c9-db17f1d4f8a9",
   "metadata": {},
   "outputs": [
    {
     "ename": "NameError",
     "evalue": "name 'plottime' is not defined",
     "output_type": "error",
     "traceback": [
      "\u001b[0;31m---------------------------------------------------------------------------\u001b[0m",
      "\u001b[0;31mNameError\u001b[0m                                 Traceback (most recent call last)",
      "Cell \u001b[0;32mIn[3], line 1\u001b[0m\n\u001b[0;32m----> 1\u001b[0m \u001b[43mplottime\u001b[49m(basetime,\u001b[38;5;124m\"\u001b[39m\u001b[38;5;124mbase\u001b[39m\u001b[38;5;124m\"\u001b[39m)\n\u001b[1;32m      2\u001b[0m plottime(ngittime,\u001b[38;5;124m\"\u001b[39m\u001b[38;5;124mngit\u001b[39m\u001b[38;5;124m\"\u001b[39m)\n\u001b[1;32m      3\u001b[0m plottime(parallel1time,\u001b[38;5;124m\"\u001b[39m\u001b[38;5;124m1 core\u001b[39m\u001b[38;5;124m\"\u001b[39m)\n",
      "\u001b[0;31mNameError\u001b[0m: name 'plottime' is not defined"
     ]
    }
   ],
   "source": [
    "plottime(basetime,\"base\")\n",
    "plottime(ngittime,\"ngit\")\n",
    "plottime(parallel1time,\"1 core\")\n",
    "plottime(parallel2time,\"2 cores\")\n",
    "plottime(parallel3time,\"3 cores\")\n",
    "plottime(parallel4time,\"4 cores\")\n",
    "plottime(parallel5time,\"5 cores\")\n",
    "plottime(ngitparallel1time,\"ngitparallel1\")\n",
    "plottime(ngitparallel2time,\"ngitparallel2\")\n",
    "plottime(ngitparallel3time,\"ngitparallel3\")\n",
    "plottime(ngitparallel4time,\"ngitparallel4\")\n",
    "plottime(ngitparallel5time,\"ngitparallel5\")\n",
    "\n",
    "# plt.yscale('log')\n",
    "plt.legend()"
   ]
  },
  {
   "cell_type": "code",
   "execution_count": null,
   "id": "cc32eb1e-d986-4694-b5d2-d41e581e420e",
   "metadata": {},
   "outputs": [],
   "source": []
  },
  {
   "cell_type": "code",
   "execution_count": 4,
   "id": "5111507f-8c99-4ed3-8de5-8cf1f56ab496",
   "metadata": {},
   "outputs": [
    {
     "ename": "NameError",
     "evalue": "name 'trials' is not defined",
     "output_type": "error",
     "traceback": [
      "\u001b[0;31m---------------------------------------------------------------------------\u001b[0m",
      "\u001b[0;31mNameError\u001b[0m                                 Traceback (most recent call last)",
      "Cell \u001b[0;32mIn[4], line 4\u001b[0m\n\u001b[1;32m      1\u001b[0m tsvals \u001b[38;5;241m=\u001b[39m np\u001b[38;5;241m.\u001b[39marange(\u001b[38;5;241m1000\u001b[39m,\u001b[38;5;241m10500\u001b[39m,\u001b[38;5;241m500\u001b[39m)\n\u001b[1;32m      3\u001b[0m \u001b[38;5;66;03m# base Tc\u001b[39;00m\n\u001b[0;32m----> 4\u001b[0m baseTc \u001b[38;5;241m=\u001b[39m np\u001b[38;5;241m.\u001b[39mzeros((\u001b[38;5;28mlen\u001b[39m(tsvals),\u001b[43mtrials\u001b[49m\u001b[38;5;241m+\u001b[39m\u001b[38;5;241m1\u001b[39m))\n\u001b[1;32m      5\u001b[0m baseTc[:,\u001b[38;5;241m0\u001b[39m] \u001b[38;5;241m=\u001b[39m tsvals\n\u001b[1;32m      6\u001b[0m ngitTc \u001b[38;5;241m=\u001b[39m baseTc\u001b[38;5;241m.\u001b[39mcopy()\n",
      "\u001b[0;31mNameError\u001b[0m: name 'trials' is not defined"
     ]
    }
   ],
   "source": [
    "tsvals = np.arange(1000,10500,500)\n",
    "\n",
    "# base Tc\n",
    "baseTc = np.zeros((len(tsvals),trials+1))\n",
    "baseTc[:,0] = tsvals\n",
    "ngitTc = baseTc.copy()\n",
    "parallel1Tc = baseTc.copy()\n",
    "parallel2Tc = baseTc.copy()\n",
    "parallel3Tc = baseTc.copy()\n",
    "parallel4Tc = baseTc.copy()\n",
    "parallel5Tc = baseTc.copy()\n",
    "ngitparallel1Tc = baseTc.copy()\n",
    "ngitparallel2Tc = baseTc.copy()\n",
    "ngitparallel3Tc = baseTc.copy()\n",
    "ngitparallel4Tc = baseTc.copy()\n",
    "ngitparallel5Tc = baseTc.copy()\n",
    "\n",
    "mode = '_base_'\n",
    "for i in range(len(tsvals)):\n",
    "    tsvals[i]\n",
    "    for j in range(1,trials+1):\n",
    "        filename = 't'+str(j)+mode+'l10ts'+str(tsvals[i])+'r120'\n",
    "        baseTc[i,j] = getTc(filename)\n",
    "\n",
    "mode = '_ngit_'\n",
    "for i in range(len(tsvals)):\n",
    "    tsvals[i]\n",
    "    for j in range(1,trials+1):\n",
    "        filename = 't'+str(j)+mode+'l10ts'+str(tsvals[i])+'r120'\n",
    "        ngitTc[i,j] = getTc(filename)\n",
    "\n",
    "mode = '_parallel_'\n",
    "for i in range(len(tsvals)):\n",
    "    tsvals[i]\n",
    "    for j in range(1,trials+1):\n",
    "        filename = 't'+str(j)+mode+'l10ts'+str(tsvals[i])+'r120c1'\n",
    "        parallel1Tc[i,j] = getTc(filename)\n",
    "        filename = 't'+str(j)+mode+'l10ts'+str(tsvals[i])+'r120c2'\n",
    "        parallel2Tc[i,j] = getTc(filename)\n",
    "        filename = 't'+str(j)+mode+'l10ts'+str(tsvals[i])+'r120c3'\n",
    "        parallel3Tc[i,j] = getTc(filename)\n",
    "        filename = 't'+str(j)+mode+'l10ts'+str(tsvals[i])+'r120c4'\n",
    "        parallel4Tc[i,j] = getTc(filename)\n",
    "        filename = 't'+str(j)+mode+'l10ts'+str(tsvals[i])+'r120c5'\n",
    "        parallel5Tc[i,j] = getTc(filename)\n",
    "\n",
    "mode = '_ngitparallel_'\n",
    "for i in range(len(tsvals)):\n",
    "    tsvals[i]\n",
    "    for j in range(1,trials+1):\n",
    "        filename = 't'+str(j)+mode+'l10ts'+str(tsvals[i])+'r120c1'\n",
    "        ngitparallel1Tc[i,j] = getTc(filename)\n",
    "        filename = 't'+str(j)+mode+'l10ts'+str(tsvals[i])+'r120c2'\n",
    "        ngitparallel2Tc[i,j] = getTc(filename)\n",
    "        filename = 't'+str(j)+mode+'l10ts'+str(tsvals[i])+'r120c3'\n",
    "        ngitparallel3Tc[i,j] = getTc(filename)\n",
    "        filename = 't'+str(j)+mode+'l10ts'+str(tsvals[i])+'r120c4'\n",
    "        ngitparallel4Tc[i,j] = getTc(filename)\n",
    "        filename = 't'+str(j)+mode+'l10ts'+str(tsvals[i])+'r120c5'\n",
    "        ngitparallel5Tc[i,j] = getTc(filename)\n",
    "        "
   ]
  },
  {
   "cell_type": "code",
   "execution_count": 5,
   "id": "528b0f15-1890-498c-8162-9d8d02b55221",
   "metadata": {},
   "outputs": [
    {
     "ename": "NameError",
     "evalue": "name 'plottime' is not defined",
     "output_type": "error",
     "traceback": [
      "\u001b[0;31m---------------------------------------------------------------------------\u001b[0m",
      "\u001b[0;31mNameError\u001b[0m                                 Traceback (most recent call last)",
      "Cell \u001b[0;32mIn[5], line 1\u001b[0m\n\u001b[0;32m----> 1\u001b[0m \u001b[43mplottime\u001b[49m(baseTc,\u001b[38;5;124m'\u001b[39m\u001b[38;5;124mbase\u001b[39m\u001b[38;5;124m'\u001b[39m)\n\u001b[1;32m      2\u001b[0m plottime(ngitTc,\u001b[38;5;124m'\u001b[39m\u001b[38;5;124mngit\u001b[39m\u001b[38;5;124m'\u001b[39m)\n\u001b[1;32m      3\u001b[0m plottime(parallel5Tc,\u001b[38;5;124m'\u001b[39m\u001b[38;5;124mparallel\u001b[39m\u001b[38;5;124m'\u001b[39m)\n",
      "\u001b[0;31mNameError\u001b[0m: name 'plottime' is not defined"
     ]
    }
   ],
   "source": [
    "plottime(baseTc,'base')\n",
    "plottime(ngitTc,'ngit')\n",
    "plottime(parallel5Tc,'parallel')\n",
    "plottime(ngitparallel5Tc,'ngitparallel')\n",
    "plt.legend()"
   ]
  },
  {
   "cell_type": "code",
   "execution_count": 6,
   "id": "551d332e-9f06-4605-beb7-06d594655c20",
   "metadata": {},
   "outputs": [
    {
     "ename": "NameError",
     "evalue": "name 'plottime' is not defined",
     "output_type": "error",
     "traceback": [
      "\u001b[0;31m---------------------------------------------------------------------------\u001b[0m",
      "\u001b[0;31mNameError\u001b[0m                                 Traceback (most recent call last)",
      "Cell \u001b[0;32mIn[6], line 1\u001b[0m\n\u001b[0;32m----> 1\u001b[0m \u001b[43mplottime\u001b[49m(parallel1Tc,\u001b[38;5;124m'\u001b[39m\u001b[38;5;124mparallel1\u001b[39m\u001b[38;5;124m'\u001b[39m)\n\u001b[1;32m      2\u001b[0m plottime(parallel2Tc,\u001b[38;5;124m'\u001b[39m\u001b[38;5;124mparallel2\u001b[39m\u001b[38;5;124m'\u001b[39m)\n\u001b[1;32m      3\u001b[0m plottime(parallel3Tc,\u001b[38;5;124m'\u001b[39m\u001b[38;5;124mparallel3\u001b[39m\u001b[38;5;124m'\u001b[39m)\n",
      "\u001b[0;31mNameError\u001b[0m: name 'plottime' is not defined"
     ]
    }
   ],
   "source": [
    "plottime(parallel1Tc,'parallel1')\n",
    "plottime(parallel2Tc,'parallel2')\n",
    "plottime(parallel3Tc,'parallel3')\n",
    "plottime(parallel4Tc,'parallel4')\n",
    "plottime(parallel5Tc,'parallel5')\n",
    "\n",
    "plottime(ngitparallel1Tc,'nparallel1')\n",
    "plottime(ngitparallel2Tc,'nparallel2')\n",
    "plottime(ngitparallel3Tc,'nparallel3')\n",
    "plottime(ngitparallel4Tc,'nparallel4')\n",
    "plottime(ngitparallel5Tc,'nparallel5')\n",
    "plt.legend()"
   ]
  },
  {
   "cell_type": "code",
   "execution_count": 7,
   "id": "d6ac6215-30a3-40c3-b4c3-f4b0d5b57532",
   "metadata": {},
   "outputs": [
    {
     "name": "stderr",
     "output_type": "stream",
     "text": [
      "/var/folders/f8/8y4hbybx5ws9fsm_5tt0q9dm0000gn/T/ipykernel_44939/3004020866.py:55: UserWarning: Data has no positive values, and therefore cannot be log-scaled.\n",
      "  plt.yscale('log')\n"
     ]
    },
    {
     "data": {
      "image/png": "[encoded data removed]",
      "text/plain": [
       "<Figure size 640x480 with 1 Axes>"
      ]
     },
     "metadata": {},
     "output_type": "display_data"
    }
   ],
   "source": [
    "def gettimes(mode,tsvals,ntrials,filename):\n",
    "    l = 10\n",
    "    r = 120\n",
    "\n",
    "    data = np.zeros((len(tsvals),ntrials))\n",
    "\n",
    "    with open('../data/'+filename+'.txt', 'r') as file:\n",
    "        data_array = [line.strip().split() for line in file.readlines()]  # Assumes first 2 lines\n",
    "\n",
    "    for tindex in range(len(tsvals)):\n",
    "        ts = tsvals[tindex]\n",
    "        for j in range(ntrials):\n",
    "            for i in range(len(data_array)):\n",
    "                entry_name = data_array[i][0]\n",
    "                if entry_name.find('t'+str(j+1)) > -1\\\n",
    "                    and entry_name.find('_'+mode+'_') >-1\\\n",
    "                    and entry_name.find('ts'+str(ts)+'r') >-1:\n",
    "\n",
    "                    data[tindex,j] = float(data_array[i][3])\n",
    "\n",
    "    return data\n",
    "\n",
    "def gettimesp(mode,tsvals,ntrials,filename,core):\n",
    "    l = 10\n",
    "    r = 120\n",
    "\n",
    "    data = np.zeros((len(tsvals),ntrials))\n",
    "\n",
    "    with open('../data/'+filename+'.txt', 'r') as file:\n",
    "        data_array = [line.strip().split() for line in file.readlines()]  # Assumes first 2 lines\n",
    "\n",
    "    for tindex in range(len(tsvals)):\n",
    "        ts = tsvals[tindex]\n",
    "        for j in range(ntrials):\n",
    "            for i in range(len(data_array)):\n",
    "                entry_name = data_array[i][0]\n",
    "                if entry_name.find('t'+str(j+1)) > -1\\\n",
    "                    and entry_name.find('_'+mode+'_') >-1\\\n",
    "                    and entry_name.find('ts'+str(ts)+'r') >-1\\\n",
    "                    and entry_name.find('c'+str(core)) >-1:\n",
    "\n",
    "                    data[tindex,j] = float(data_array[i][3])\n",
    "\n",
    "    return data\n",
    "\n",
    "tsvals = np.arange(100000,400000,100000)\n",
    "base = gettimes('base',tsvals,1,'times')\n",
    "ngit = gettimes('ngit',tsvals,1,'times')\n",
    "parallel = gettimesp('parallel',tsvals,1,'times',5)\n",
    "ngitparallel = gettimesp('ngitparallel',tsvals,1,'times',5)\n",
    "plt.plot(tsvals,base)\n",
    "plt.plot(tsvals,ngit)\n",
    "plt.plot(tsvals,parallel)\n",
    "plt.plot(tsvals,ngitparallel)\n",
    "plt.yscale('log')"
   ]
  },
  {
   "cell_type": "code",
   "execution_count": 8,
   "id": "5aa9f4ce-b9e8-46cd-92e9-06990b6e7f75",
   "metadata": {},
   "outputs": [],
   "source": [
    "from scipy.optimize import curve_fit\n",
    "import numpy as np\n",
    "import matplotlib.pyplot as plt\n",
    "\n",
    "def getTc(filename):\n",
    "    N = 32*32\n",
    "    sdata = np.loadtxt(\"../data/\"+filename+\"energy.txt\")\n",
    "\n",
    "    Tvals = sdata[0,:]\n",
    "\n",
    "    Eave = np.mean(sdata[2:,:],axis=0)\n",
    "    Esqave = np.mean(sdata[2:,:]**2,axis=0)\n",
    "\n",
    "    Cvals = np.divide(Esqave - Eave**2, N*Tvals**2)\n",
    "\n",
    "    def lorentzian(T, Tc, A, B):\n",
    "        return A/((T-Tc)**2 + B)\n",
    "        # return A/(abs(T-Tc)**(7/4)) + B\n",
    "    \n",
    "    popt, pcov = curve_fit(lorentzian, Tvals, Cvals, p0=[2.23, 0, 0] ,maxfev = 5000)\n",
    "    # popt, pcov = curve_fit(lorentzian, Tvals, Xvals, maxfev = 5000)\n",
    "\n",
    "    plt.scatter(Tvals,Cvals)\n",
    "    xdata = np.linspace(2,2.5,200)\n",
    "    plt.plot(xdata,lorentzian(xdata, *popt))\n",
    "    # plt.ylim(0,1)\n",
    "    perr = np.sqrt(np.diag(pcov))\n",
    "    print(perr[0])\n",
    "    return popt[0]\n",
    "\n",
    "def get_accuracy(mode,tsvals,ntrials):\n",
    "    l = 10\n",
    "    r = 120\n",
    "\n",
    "    data = np.zeros((len(tsvals),ntrials))\n",
    "\n",
    "    for tindex in range(len(tsvals)):\n",
    "        for trial in range(ntrials):\n",
    "            dataname = f\"t{trial+1}_{mode}_l{l}ts{tsvals[tindex]}r{r}\"\n",
    "            data[tindex,trial] = getTc(dataname)\n",
    "\n",
    "    return data\n",
    "    \n",
    "tvals = np.arange(100000,400000,100000)"
   ]
  },
  {
   "cell_type": "code",
   "execution_count": 9,
   "id": "b02a34ab-0c28-43d3-9dc4-8fde69a21d16",
   "metadata": {},
   "outputs": [
    {
     "ename": "FileNotFoundError",
     "evalue": "../data/t1_njitparallel_l4ts2000energy.txt not found.",
     "output_type": "error",
     "traceback": [
      "\u001b[0;31m---------------------------------------------------------------------------\u001b[0m",
      "\u001b[0;31mFileNotFoundError\u001b[0m                         Traceback (most recent call last)",
      "Cell \u001b[0;32mIn[9], line 10\u001b[0m\n\u001b[1;32m      1\u001b[0m filename \u001b[38;5;241m=\u001b[39m \u001b[38;5;124m\"\u001b[39m\u001b[38;5;124mt1_njitparallel_l32ts2000\u001b[39m\u001b[38;5;124m\"\u001b[39m\n\u001b[1;32m      2\u001b[0m \u001b[38;5;66;03m# sdata = np.loadtxt(\"../data/\"+filename+\"spin.txt\")/(16*16*2)\u001b[39;00m\n\u001b[1;32m      3\u001b[0m \u001b[38;5;66;03m# plt.subplot(1,2,2)\u001b[39;00m\n\u001b[1;32m      4\u001b[0m \u001b[38;5;66;03m# plt.plot(sdata[1:,0])\u001b[39;00m\n\u001b[0;32m   (...)\u001b[0m\n\u001b[1;32m      7\u001b[0m \u001b[38;5;66;03m# plt.subplot(1,2,1)\u001b[39;00m\n\u001b[1;32m      8\u001b[0m \u001b[38;5;66;03m# plt.plot(np.mean(sdata[1:,:],0))\u001b[39;00m\n\u001b[0;32m---> 10\u001b[0m \u001b[43mgetTc\u001b[49m\u001b[43m(\u001b[49m\u001b[38;5;124;43m\"\u001b[39;49m\u001b[38;5;124;43mt1_njitparallel_l4ts2000\u001b[39;49m\u001b[38;5;124;43m\"\u001b[39;49m\u001b[43m)\u001b[49m\n",
      "Cell \u001b[0;32mIn[8], line 7\u001b[0m, in \u001b[0;36mgetTc\u001b[0;34m(filename)\u001b[0m\n\u001b[1;32m      5\u001b[0m \u001b[38;5;28;01mdef\u001b[39;00m \u001b[38;5;21mgetTc\u001b[39m(filename):\n\u001b[1;32m      6\u001b[0m     N \u001b[38;5;241m=\u001b[39m \u001b[38;5;241m32\u001b[39m\u001b[38;5;241m*\u001b[39m\u001b[38;5;241m32\u001b[39m\n\u001b[0;32m----> 7\u001b[0m     sdata \u001b[38;5;241m=\u001b[39m \u001b[43mnp\u001b[49m\u001b[38;5;241;43m.\u001b[39;49m\u001b[43mloadtxt\u001b[49m\u001b[43m(\u001b[49m\u001b[38;5;124;43m\"\u001b[39;49m\u001b[38;5;124;43m../data/\u001b[39;49m\u001b[38;5;124;43m\"\u001b[39;49m\u001b[38;5;241;43m+\u001b[39;49m\u001b[43mfilename\u001b[49m\u001b[38;5;241;43m+\u001b[39;49m\u001b[38;5;124;43m\"\u001b[39;49m\u001b[38;5;124;43menergy.txt\u001b[39;49m\u001b[38;5;124;43m\"\u001b[39;49m\u001b[43m)\u001b[49m\n\u001b[1;32m      9\u001b[0m     Tvals \u001b[38;5;241m=\u001b[39m sdata[\u001b[38;5;241m0\u001b[39m,:]\n\u001b[1;32m     11\u001b[0m     Eave \u001b[38;5;241m=\u001b[39m np\u001b[38;5;241m.\u001b[39mmean(sdata[\u001b[38;5;241m2\u001b[39m:,:],axis\u001b[38;5;241m=\u001b[39m\u001b[38;5;241m0\u001b[39m)\n",
      "File \u001b[0;32m~/Library/jupyterlab-desktop/jlab_server/lib/python3.12/site-packages/numpy/lib/_npyio_impl.py:1397\u001b[0m, in \u001b[0;36mloadtxt\u001b[0;34m(fname, dtype, comments, delimiter, converters, skiprows, usecols, unpack, ndmin, encoding, max_rows, quotechar, like)\u001b[0m\n\u001b[1;32m   1394\u001b[0m \u001b[38;5;28;01mif\u001b[39;00m \u001b[38;5;28misinstance\u001b[39m(delimiter, \u001b[38;5;28mbytes\u001b[39m):\n\u001b[1;32m   1395\u001b[0m     delimiter \u001b[38;5;241m=\u001b[39m delimiter\u001b[38;5;241m.\u001b[39mdecode(\u001b[38;5;124m'\u001b[39m\u001b[38;5;124mlatin1\u001b[39m\u001b[38;5;124m'\u001b[39m)\n\u001b[0;32m-> 1397\u001b[0m arr \u001b[38;5;241m=\u001b[39m \u001b[43m_read\u001b[49m\u001b[43m(\u001b[49m\u001b[43mfname\u001b[49m\u001b[43m,\u001b[49m\u001b[43m \u001b[49m\u001b[43mdtype\u001b[49m\u001b[38;5;241;43m=\u001b[39;49m\u001b[43mdtype\u001b[49m\u001b[43m,\u001b[49m\u001b[43m \u001b[49m\u001b[43mcomment\u001b[49m\u001b[38;5;241;43m=\u001b[39;49m\u001b[43mcomment\u001b[49m\u001b[43m,\u001b[49m\u001b[43m \u001b[49m\u001b[43mdelimiter\u001b[49m\u001b[38;5;241;43m=\u001b[39;49m\u001b[43mdelimiter\u001b[49m\u001b[43m,\u001b[49m\n\u001b[1;32m   1398\u001b[0m \u001b[43m            \u001b[49m\u001b[43mconverters\u001b[49m\u001b[38;5;241;43m=\u001b[39;49m\u001b[43mconverters\u001b[49m\u001b[43m,\u001b[49m\u001b[43m \u001b[49m\u001b[43mskiplines\u001b[49m\u001b[38;5;241;43m=\u001b[39;49m\u001b[43mskiprows\u001b[49m\u001b[43m,\u001b[49m\u001b[43m \u001b[49m\u001b[43musecols\u001b[49m\u001b[38;5;241;43m=\u001b[39;49m\u001b[43musecols\u001b[49m\u001b[43m,\u001b[49m\n\u001b[1;32m   1399\u001b[0m \u001b[43m            \u001b[49m\u001b[43munpack\u001b[49m\u001b[38;5;241;43m=\u001b[39;49m\u001b[43munpack\u001b[49m\u001b[43m,\u001b[49m\u001b[43m \u001b[49m\u001b[43mndmin\u001b[49m\u001b[38;5;241;43m=\u001b[39;49m\u001b[43mndmin\u001b[49m\u001b[43m,\u001b[49m\u001b[43m \u001b[49m\u001b[43mencoding\u001b[49m\u001b[38;5;241;43m=\u001b[39;49m\u001b[43mencoding\u001b[49m\u001b[43m,\u001b[49m\n\u001b[1;32m   1400\u001b[0m \u001b[43m            \u001b[49m\u001b[43mmax_rows\u001b[49m\u001b[38;5;241;43m=\u001b[39;49m\u001b[43mmax_rows\u001b[49m\u001b[43m,\u001b[49m\u001b[43m \u001b[49m\u001b[43mquote\u001b[49m\u001b[38;5;241;43m=\u001b[39;49m\u001b[43mquotechar\u001b[49m\u001b[43m)\u001b[49m\n\u001b[1;32m   1402\u001b[0m \u001b[38;5;28;01mreturn\u001b[39;00m arr\n",
      "File \u001b[0;32m~/Library/jupyterlab-desktop/jlab_server/lib/python3.12/site-packages/numpy/lib/_npyio_impl.py:1012\u001b[0m, in \u001b[0;36m_read\u001b[0;34m(fname, delimiter, comment, quote, imaginary_unit, usecols, skiplines, max_rows, converters, ndmin, unpack, dtype, encoding)\u001b[0m\n\u001b[1;32m   1010\u001b[0m     fname \u001b[38;5;241m=\u001b[39m os\u001b[38;5;241m.\u001b[39mfspath(fname)\n\u001b[1;32m   1011\u001b[0m \u001b[38;5;28;01mif\u001b[39;00m \u001b[38;5;28misinstance\u001b[39m(fname, \u001b[38;5;28mstr\u001b[39m):\n\u001b[0;32m-> 1012\u001b[0m     fh \u001b[38;5;241m=\u001b[39m \u001b[43mnp\u001b[49m\u001b[38;5;241;43m.\u001b[39;49m\u001b[43mlib\u001b[49m\u001b[38;5;241;43m.\u001b[39;49m\u001b[43m_datasource\u001b[49m\u001b[38;5;241;43m.\u001b[39;49m\u001b[43mopen\u001b[49m\u001b[43m(\u001b[49m\u001b[43mfname\u001b[49m\u001b[43m,\u001b[49m\u001b[43m \u001b[49m\u001b[38;5;124;43m'\u001b[39;49m\u001b[38;5;124;43mrt\u001b[39;49m\u001b[38;5;124;43m'\u001b[39;49m\u001b[43m,\u001b[49m\u001b[43m \u001b[49m\u001b[43mencoding\u001b[49m\u001b[38;5;241;43m=\u001b[39;49m\u001b[43mencoding\u001b[49m\u001b[43m)\u001b[49m\n\u001b[1;32m   1013\u001b[0m     \u001b[38;5;28;01mif\u001b[39;00m encoding \u001b[38;5;129;01mis\u001b[39;00m \u001b[38;5;28;01mNone\u001b[39;00m:\n\u001b[1;32m   1014\u001b[0m         encoding \u001b[38;5;241m=\u001b[39m \u001b[38;5;28mgetattr\u001b[39m(fh, \u001b[38;5;124m'\u001b[39m\u001b[38;5;124mencoding\u001b[39m\u001b[38;5;124m'\u001b[39m, \u001b[38;5;124m'\u001b[39m\u001b[38;5;124mlatin1\u001b[39m\u001b[38;5;124m'\u001b[39m)\n",
      "File \u001b[0;32m~/Library/jupyterlab-desktop/jlab_server/lib/python3.12/site-packages/numpy/lib/_datasource.py:192\u001b[0m, in \u001b[0;36mopen\u001b[0;34m(path, mode, destpath, encoding, newline)\u001b[0m\n\u001b[1;32m    155\u001b[0m \u001b[38;5;250m\u001b[39m\u001b[38;5;124;03m\"\"\"\u001b[39;00m\n\u001b[1;32m    156\u001b[0m \u001b[38;5;124;03mOpen `path` with `mode` and return the file object.\u001b[39;00m\n\u001b[1;32m    157\u001b[0m \n\u001b[0;32m   (...)\u001b[0m\n\u001b[1;32m    188\u001b[0m \n\u001b[1;32m    189\u001b[0m \u001b[38;5;124;03m\"\"\"\u001b[39;00m\n\u001b[1;32m    191\u001b[0m ds \u001b[38;5;241m=\u001b[39m DataSource(destpath)\n\u001b[0;32m--> 192\u001b[0m \u001b[38;5;28;01mreturn\u001b[39;00m \u001b[43mds\u001b[49m\u001b[38;5;241;43m.\u001b[39;49m\u001b[43mopen\u001b[49m\u001b[43m(\u001b[49m\u001b[43mpath\u001b[49m\u001b[43m,\u001b[49m\u001b[43m \u001b[49m\u001b[43mmode\u001b[49m\u001b[43m,\u001b[49m\u001b[43m \u001b[49m\u001b[43mencoding\u001b[49m\u001b[38;5;241;43m=\u001b[39;49m\u001b[43mencoding\u001b[49m\u001b[43m,\u001b[49m\u001b[43m \u001b[49m\u001b[43mnewline\u001b[49m\u001b[38;5;241;43m=\u001b[39;49m\u001b[43mnewline\u001b[49m\u001b[43m)\u001b[49m\n",
      "File \u001b[0;32m~/Library/jupyterlab-desktop/jlab_server/lib/python3.12/site-packages/numpy/lib/_datasource.py:529\u001b[0m, in \u001b[0;36mDataSource.open\u001b[0;34m(self, path, mode, encoding, newline)\u001b[0m\n\u001b[1;32m    526\u001b[0m     \u001b[38;5;28;01mreturn\u001b[39;00m _file_openers[ext](found, mode\u001b[38;5;241m=\u001b[39mmode,\n\u001b[1;32m    527\u001b[0m                               encoding\u001b[38;5;241m=\u001b[39mencoding, newline\u001b[38;5;241m=\u001b[39mnewline)\n\u001b[1;32m    528\u001b[0m \u001b[38;5;28;01melse\u001b[39;00m:\n\u001b[0;32m--> 529\u001b[0m     \u001b[38;5;28;01mraise\u001b[39;00m \u001b[38;5;167;01mFileNotFoundError\u001b[39;00m(\u001b[38;5;124mf\u001b[39m\u001b[38;5;124m\"\u001b[39m\u001b[38;5;132;01m{\u001b[39;00mpath\u001b[38;5;132;01m}\u001b[39;00m\u001b[38;5;124m not found.\u001b[39m\u001b[38;5;124m\"\u001b[39m)\n",
      "\u001b[0;31mFileNotFoundError\u001b[0m: ../data/t1_njitparallel_l4ts2000energy.txt not found."
     ]
    }
   ],
   "source": [
    "filename = \"t1_njitparallel_l32ts2000\"\n",
    "# sdata = np.loadtxt(\"../data/\"+filename+\"spin.txt\")/(16*16*2)\n",
    "# plt.subplot(1,2,2)\n",
    "# plt.plot(sdata[1:,0])\n",
    "# plt.plot(sdata[1:,1])\n",
    "# plt.plot(sdata[1:,2])\n",
    "# plt.subplot(1,2,1)\n",
    "# plt.plot(np.mean(sdata[1:,:],0))\n",
    "\n",
    "getTc(\"t1_njitparallel_l4ts2000\")"
   ]
  },
  {
   "cell_type": "code",
   "execution_count": 82,
   "id": "65c27c1a-4e43-4aad-9495-5ea05a7866cf",
   "metadata": {},
   "outputs": [
    {
     "name": "stdout",
     "output_type": "stream",
     "text": [
      "0.00549642589598113\n"
     ]
    },
    {
     "data": {
      "text/plain": [
       "np.float64(2.260023865866029)"
      ]
     },
     "execution_count": 82,
     "metadata": {},
     "output_type": "execute_result"
    },
    {
     "data": {
      "image/png": "[encoded data removed]",
      "text/plain": [
       "<Figure size 640x480 with 1 Axes>"
      ]
     },
     "metadata": {},
     "output_type": "display_data"
    }
   ],
   "source": [
    "getTc(\"t1_njitparallel_l32ts2000\")"
   ]
  },
  {
   "cell_type": "code",
   "execution_count": 75,
   "id": "76a97866-d83c-4d3b-a6ff-a8ddd3a53ae6",
   "metadata": {},
   "outputs": [
    {
     "name": "stdout",
     "output_type": "stream",
     "text": [
      "0.02817942430781648\n"
     ]
    },
    {
     "data": {
      "text/plain": [
       "np.float64(2.2683911072440046)"
      ]
     },
     "execution_count": 75,
     "metadata": {},
     "output_type": "execute_result"
    },
    {
     "data": {
      "image/png": "[encoded data removed]",
      "text/plain": [
       "<Figure size 640x480 with 1 Axes>"
      ]
     },
     "metadata": {},
     "output_type": "display_data"
    }
   ],
   "source": [
    "getTc(\"t1_njitparallel_l8ts2000\")"
   ]
  },
  {
   "cell_type": "code",
   "execution_count": null,
   "id": "f75f83d5-6004-4fcd-9463-cd4116b801ee",
   "metadata": {},
   "outputs": [],
   "source": []
  }
 ],
 "metadata": {
  "kernelspec": {
   "display_name": "Python 3 (ipykernel)",
   "language": "python",
   "name": "python3"
  },
  "language_info": {
   "codemirror_mode": {
    "name": "ipython",
    "version": 3
   },
   "file_extension": ".py",
   "mimetype": "text/x-python",
   "name": "python",
   "nbconvert_exporter": "python",
   "pygments_lexer": "ipython3",
   "version": "3.12.5"
  }
 },
 "nbformat": 4,
 "nbformat_minor": 5
}
